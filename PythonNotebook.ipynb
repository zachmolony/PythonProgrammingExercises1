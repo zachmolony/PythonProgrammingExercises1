{
 "cells": [
  {
   "cell_type": "markdown",
   "metadata": {},
   "source": [
    "# MAIN PYTHON NOTEBOOK"
   ]
  },
  {
   "cell_type": "markdown",
   "metadata": {},
   "source": [
    "### Pushing to github repo:\n",
    "\n",
    "git add [filename]\n",
    "  \n",
    "git commit -m \"[message]\"\n",
    "  \n",
    "git push"
   ]
  },
  {
   "cell_type": "markdown",
   "metadata": {},
   "source": [
    "# Data manipulation\n",
    "\n",
    "concatanation of strings = \"hello\"+\"world\"\n",
    "\n",
    "you cannot add different data types\n",
    "\n",
    "strings can be repeated by only multiplying by integers\n"
   ]
  },
  {
   "cell_type": "markdown",
   "metadata": {},
   "source": [
    "# Mathematical Comparators\n",
    "  \n",
    "</> less than / greater than (when dealing with strings, the unicode of the letter is compared eg a < b)\n",
    "  \n",
    "!= not equal to \n",
    "  \n",
    "== is equal to \n",
    "  "
   ]
  },
  {
   "cell_type": "code",
   "execution_count": 7,
   "metadata": {},
   "outputs": [
    {
     "data": {
      "text/plain": [
       "False"
      ]
     },
     "execution_count": 7,
     "metadata": {},
     "output_type": "execute_result"
    }
   ],
   "source": [
    "2 > 3"
   ]
  },
  {
   "cell_type": "code",
   "execution_count": 8,
   "metadata": {},
   "outputs": [
    {
     "data": {
      "text/plain": [
       "True"
      ]
     },
     "execution_count": 8,
     "metadata": {},
     "output_type": "execute_result"
    }
   ],
   "source": [
    "2 != 5"
   ]
  },
  {
   "cell_type": "code",
   "execution_count": 9,
   "metadata": {},
   "outputs": [
    {
     "data": {
      "text/plain": [
       "True"
      ]
     },
     "execution_count": 9,
     "metadata": {},
     "output_type": "execute_result"
    }
   ],
   "source": [
    "\"a\" < \"b\""
   ]
  },
  {
   "cell_type": "code",
   "execution_count": 10,
   "metadata": {},
   "outputs": [
    {
     "data": {
      "text/plain": [
       "False"
      ]
     },
     "execution_count": 10,
     "metadata": {},
     "output_type": "execute_result"
    }
   ],
   "source": [
    "True == False"
   ]
  },
  {
   "cell_type": "markdown",
   "metadata": {
    "collapsed": true
   },
   "source": [
    "# Random number generating\n",
    "\n",
    "Python needs the random module to generate random numbers.\n",
    "\n",
    "randint creates a random integer "
   ]
  },
  {
   "cell_type": "code",
   "execution_count": null,
   "metadata": {
    "collapsed": true
   },
   "outputs": [],
   "source": [
    "from random import randint\n",
    "from random import randrange\n",
    "\n",
    "x = randint(1,10)\n",
    "\n",
    "print(x)"
   ]
  },
  {
   "cell_type": "markdown",
   "metadata": {},
   "source": [
    "randrange creates a number in the range (start, stop [step])\n",
    "\n",
    "[step] is the distance between the randomly generated numbers"
   ]
  },
  {
   "cell_type": "code",
   "execution_count": null,
   "metadata": {
    "collapsed": true
   },
   "outputs": [],
   "source": [
    "z = randrange(1,100,5)\n",
    "\n",
    "print(z)"
   ]
  },
  {
   "cell_type": "markdown",
   "metadata": {},
   "source": [
    "## Random dice roll"
   ]
  },
  {
   "cell_type": "code",
   "execution_count": 1,
   "metadata": {},
   "outputs": [
    {
     "name": "stdout",
     "output_type": "stream",
     "text": [
      "Press x to roll the dice: x\n",
      "4\n"
     ]
    }
   ],
   "source": [
    "from random import randint\n",
    "\n",
    "userInput = input(\"Press x to roll the dice: \")\n",
    "if userInput == \"x\":\n",
    "    roll = randint(1,6)\n",
    "    print(roll)"
   ]
  },
  {
   "cell_type": "markdown",
   "metadata": {},
   "source": [
    "# Escape codes\n",
    "\n",
    "\\b = backspace\n",
    "\n",
    "\\n = new line \n",
    "\n",
    "\\t = tab (four spaces)"
   ]
  },
  {
   "cell_type": "code",
   "execution_count": null,
   "metadata": {
    "collapsed": true
   },
   "outputs": [],
   "source": [
    "print(\"ayo chicken\\b mayo \")"
   ]
  },
  {
   "cell_type": "code",
   "execution_count": null,
   "metadata": {
    "collapsed": true
   },
   "outputs": [],
   "source": [
    "print(\"ayo chicken \\n mayo \")"
   ]
  },
  {
   "cell_type": "code",
   "execution_count": null,
   "metadata": {
    "collapsed": true
   },
   "outputs": [],
   "source": [
    "print(\"ayo chicken \\t mayo \")"
   ]
  },
  {
   "cell_type": "markdown",
   "metadata": {},
   "source": [
    "# Style \n",
    "\n",
    "Variables are written in camelCase\n",
    "\n",
    "Constants are written in ALL CAPS\n",
    "\n"
   ]
  },
  {
   "cell_type": "code",
   "execution_count": null,
   "metadata": {
    "collapsed": true
   },
   "outputs": [],
   "source": [
    "WINNUMBER = 5\n",
    "userInput = int(input(\"Guess the number between 1 and 10: \"))\n",
    "def guess():\n",
    "if userInput == WINNUMBER:\n",
    "    print(\"Correct. \")\n",
    "else:\n",
    "    print(\"Try again. \")\n",
    "    guess()"
   ]
  },
  {
   "cell_type": "markdown",
   "metadata": {
    "collapsed": true
   },
   "source": [
    "# Python Logical operators\n",
    "  \n",
    "and - both conditions must be true\n",
    "  \n",
    "or - one condition (or both) must be true\n",
    "  \n",
    "not - only applies to one condition. The opposite.\n",
    "  "
   ]
  },
  {
   "cell_type": "code",
   "execution_count": null,
   "metadata": {
    "collapsed": true
   },
   "outputs": [],
   "source": [
    "if userInput == 4 or userInput == 6:\n",
    "    print(\"Close, try again. \")"
   ]
  },
  {
   "cell_type": "code",
   "execution_count": null,
   "metadata": {
    "collapsed": true
   },
   "outputs": [],
   "source": [
    "name = input(\"Enter your name: \")\n",
    "age = int(input(\"Enter your age: \"))\n",
    "if name == \"Zach\" and age == 16:\n",
    "    print(\"ayy\")"
   ]
  },
  {
   "cell_type": "code",
   "execution_count": 16,
   "metadata": {},
   "outputs": [
    {
     "name": "stdout",
     "output_type": "stream",
     "text": [
      "What is your age? 1\n",
      "Are you with an adult? y/n n\n",
      "You cannot come in. \n"
     ]
    }
   ],
   "source": [
    "userAge = int(input(\"What is your age? \"))\n",
    "adult = input(\"Are you with an adult? y/n \")\n",
    "if userAge >= 18 or adult == \"y\":\n",
    "    print(\"You can come into the film. \")\n",
    "else:\n",
    "    print(\"You cannot come in. \")"
   ]
  },
  {
   "cell_type": "code",
   "execution_count": 20,
   "metadata": {},
   "outputs": [
    {
     "name": "stdout",
     "output_type": "stream",
     "text": [
      "Are you a boy? y/n n\n",
      "Do you like pizza? y/nn\n",
      "You cannot come in. \n"
     ]
    }
   ],
   "source": [
    "boy = input(\"Are you a boy? y/n \")\n",
    "pizza = input(\"Do you like pizza? y/n\")\n",
    "if boy == \"y\" and pizza == \"y\":\n",
    "    print(\"You can come to the party. \")\n",
    "else:\n",
    "    print(\"You cannot come in. \")"
   ]
  },
  {
   "cell_type": "code",
   "execution_count": 21,
   "metadata": {},
   "outputs": [
    {
     "name": "stdout",
     "output_type": "stream",
     "text": [
      "What is the temp? 18\n",
      "What is the % chance of rain? 90\n",
      "You should bring an umbrella. \n"
     ]
    }
   ],
   "source": [
    "temp = float(input(\"What is the temp? \"))\n",
    "rain = int(input(\"What is the % chance of rain? \"))\n",
    "if temp > 17 and rain > 79:\n",
    "    print(\"You should bring an umbrella. \")\n",
    "else:\n",
    "    print(\"Have a nice day. \")"
   ]
  },
  {
   "cell_type": "markdown",
   "metadata": {},
   "source": [
    " \n",
    " # The \"in\" operator\n",
    " \n",
    " This operator allows you to check the chars in a raw_input or data type against a pre-determined set of values."
   ]
  },
  {
   "cell_type": "code",
   "execution_count": 13,
   "metadata": {},
   "outputs": [
    {
     "name": "stdout",
     "output_type": "stream",
     "text": [
      "Please enter a char: g\n",
      "That was not valid.\n"
     ]
    }
   ],
   "source": [
    "validChars=\"1234567abc\"\n",
    "userIn = input(\"Please enter a char: \")\n",
    "if userIn not in validChars:\n",
    "    print(\"That was not valid.\")"
   ]
  },
  {
   "cell_type": "markdown",
   "metadata": {},
   "source": [
    "# Iteration\n",
    "\n",
    "Counting loops (for loop) - counts from 0\n",
    "Conditional loop (while loop) - keeps looping until the condition(s) is met\n",
    "\n",
    "\n",
    "\n",
    "Don't do this:\n",
    "\n",
    "```python\n",
    "while True:\n",
    "  \n",
    "    if (  ):\n",
    "        break\n",
    "```\n",
    "\n",
    "But you can do this\n",
    "\n",
    "```python\n",
    "for [variable] in range (start,stop,step):\n",
    "```\n",
    "\n",
    "**Tip: Use this to prevent massive lists:**\n",
    "\n",
    "```python\n",
    "print(variableName, end=\" \")\n",
    "```\n"
   ]
  },
  {
   "cell_type": "code",
   "execution_count": null,
   "metadata": {
    "collapsed": true
   },
   "outputs": [],
   "source": [
    "count = 1\n",
    "for x in range(1,101):\n",
    "    print(count)\n",
    "    print(\"*\")\n",
    "    count += 1"
   ]
  },
  {
   "cell_type": "code",
   "execution_count": 28,
   "metadata": {},
   "outputs": [
    {
     "name": "stdout",
     "output_type": "stream",
     "text": [
      "1 2 3 4 5 6 7 8 9 10 11 12 13 14 15 16 17 18 19 20 21 22 23 24 25 26 27 28 29 30 31 32 33 34 35 36 37 38 39 40 41 42 43 44 45 46 47 48 49 50 51 52 53 54 55 56 57 58 59 60 61 62 63 64 65 66 67 68 69 70 71 72 73 74 75 76 77 78 79 80 81 82 83 84 85 86 87 88 89 90 91 92 93 94 95 96 97 98 99 100 "
     ]
    }
   ],
   "source": [
    "for i in range(1,101):\n",
    "    print(i, end=\" \",)\n",
    "    i += 1"
   ]
  },
  {
   "cell_type": "markdown",
   "metadata": {},
   "source": [
    "## Range loops\n",
    "\n",
    "```python\n",
    "range (start,stop,[step])\n",
    "```\n",
    "\n",
    "If the step is 1, then you don't have to write it."
   ]
  },
  {
   "cell_type": "code",
   "execution_count": null,
   "metadata": {},
   "outputs": [],
   "source": [
    "name1 = str(input(\"Enter you name: \"))\n",
    "length = len(name1)\n",
    "for c in name1 (1,length,-1):\n",
    "    print(c)"
   ]
  },
  {
   "cell_type": "code",
   "execution_count": 36,
   "metadata": {},
   "outputs": [
    {
     "name": "stdout",
     "output_type": "stream",
     "text": [
      "100 99 98 97 96 95 94 93 92 91 90 89 88 87 86 85 84 83 82 81 80 79 78 77 76 75 74 73 72 71 70 69 68 67 66 65 64 63 62 61 60 59 58 57 56 55 54 53 52 51 50 49 48 47 46 45 44 43 42 41 40 39 38 37 36 35 34 33 32 31 30 29 28 27 26 25 24 23 22 21 20 19 18 17 16 15 14 13 12 11 10 9 8 7 6 5 4 3 2 1 "
     ]
    }
   ],
   "source": [
    "for i in range (100,0,-1):\n",
    "    print(i, end=\" \")"
   ]
  },
  {
   "cell_type": "code",
   "execution_count": null,
   "metadata": {
    "collapsed": true
   },
   "outputs": [],
   "source": []
  },
  {
   "cell_type": "markdown",
   "metadata": {},
   "source": [
    "# While (conditional) loops"
   ]
  },
  {
   "cell_type": "code",
   "execution_count": 32,
   "metadata": {},
   "outputs": [
    {
     "name": "stdout",
     "output_type": "stream",
     "text": [
      "Press s to stop: s\n"
     ]
    }
   ],
   "source": [
    "loopVar = \"x\" \n",
    "while loopVar != \"s\":\n",
    "    loopVar = input(\"Press s to stop: \").lower()"
   ]
  },
  {
   "cell_type": "code",
   "execution_count": 59,
   "metadata": {},
   "outputs": [
    {
     "name": "stdout",
     "output_type": "stream",
     "text": [
      "You have not won but you have 4 lives left. \n",
      "You have not won but you have 3 lives left. \n",
      "You have not won but you have 2 lives left. \n",
      "You have not won but you have 1 lives left. \n",
      "You have not won but you have 0 lives left. \n",
      "You are dead. \n"
     ]
    }
   ],
   "source": [
    "from random import randint\n",
    "win = False\n",
    "lives = 5\n",
    "\n",
    "while not win and lives > 0:\n",
    "    lives -= 1\n",
    "    y = randint(1,10)\n",
    "    if y == 10:\n",
    "        win = True\n",
    "        print(\"you have won! \")\n",
    "    else:\n",
    "        print(\"You have not won but you have\", lives, \"lives left. \")\n",
    "        \n",
    "if lives == 0:\n",
    "    print(\"You are dead. \")"
   ]
  },
  {
   "cell_type": "code",
   "execution_count": null,
   "metadata": {
    "collapsed": true
   },
   "outputs": [],
   "source": []
  }
 ],
 "metadata": {
  "kernelspec": {
   "display_name": "Python 3",
   "language": "python",
   "name": "python3"
  },
  "language_info": {
   "codemirror_mode": {
    "name": "ipython",
    "version": 3
   },
   "file_extension": ".py",
   "mimetype": "text/x-python",
   "name": "python",
   "nbconvert_exporter": "python",
   "pygments_lexer": "ipython3",
   "version": "3.5.2"
  }
 },
 "nbformat": 4,
 "nbformat_minor": 2
}
